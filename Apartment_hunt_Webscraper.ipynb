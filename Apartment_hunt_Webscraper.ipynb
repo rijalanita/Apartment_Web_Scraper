{
 "cells": [
  {
   "cell_type": "markdown",
   "metadata": {},
   "source": [
    "### Title: Web Scraper To Help Find An Apartment in Berlin\n",
    "#### Author: Anita Rijal\n",
    "#### Version: 1.0\n",
    "#### Date: July 16, 2020"
   ]
  },
  {
   "cell_type": "code",
   "execution_count": null,
   "metadata": {},
   "outputs": [],
   "source": [
    "#TO DO LIST\n",
    "#Part 1\n",
    "#Set up connection to wg web page\n",
    "#Collect and parse apartment details\n",
    "#Apartment details should include: URL link, description, rent, size, availability, post creator\n",
    "#Write a dictionary to store all apartment data\n",
    "\n",
    "#Part 2\n",
    "#Filter posts by rent price\n",
    "#Email a list of filtered posts to myself"
   ]
  },
  {
   "cell_type": "code",
   "execution_count": 255,
   "metadata": {},
   "outputs": [],
   "source": [
    "import requests\n",
    "from bs4 import BeautifulSoup"
   ]
  },
  {
   "cell_type": "code",
   "execution_count": 285,
   "metadata": {},
   "outputs": [
    {
     "name": "stdout",
     "output_type": "stream",
     "text": [
      "{'wohnungen-in-Berlin-Charlottenburg.3871878.html': ['Charlottenburg-Westend/Grunewald, neu renovierte Souterrainwohnung mit Garten in Altbau-Villa', '1052 €', '116 m²', 'ab22.08.2020', 'Olaf Friedrich'], 'wohnungen-in-Berlin-Wedding.8133229.html': ['Cosy and bright 2-rooms flat fully furnished in Wedding-Mitte – from 1 August to 24 October 2020', '1050 €', '60 m²', '01.08.2020-24.10.2020', 'Marta Iagatti'], 'wohnungen-in-Berlin-Prenzlauer-Berg.8134165.html': ['Arty Design Apartment 60m2 with balcony in the heart of Prenzlauer Allee 223', '1250 €', '60 m²', '31.07.2020-30.08.2020', 'Carolina Albertini'], 'wohnungen-in-Berlin-Mitte.8047823.html': ['Wohnen direkt in Berlin-Mitte - Linked Living Berlin', '749 €', '21 m²', 'ab01.08.2020', 'Verifiziert'], 'wohnungen-in-Berlin-Berlin.8121241.html': ['Schöne Wohnung für einen Monat bis 15.8. Im Prenzlauer Berg,  490€', '490 €', '40 m²', '22.07.2020-15.08.2020', 'Ingo A.'], 'wohnungen-in-Berlin-Kreuzberg.6386023.html': ['Roof Top Altbau Apt in Kreuzberg - ALL INCLUDED Wifi, Power, Heating / Dach Geschoss Altbau Wohnung in Kreuzberg ALLES INKLUSIVE Wifi, Strom, Heizung', '1499 €', '85 m²', '23.07.2020-01.05.2021', 'Luke W'], 'wohnungen-in-Berlin-Niederschoeneweide.7071226.html': ['Schöne Altbau-Wohnung mit 3 Zimmern in Niederschöneweide', '690 €', '75 m²', '01.10.2020', 'Isabell'], 'wohnungen-in-Berlin-Steglitz.8134078.html': ['Fully equipped, brand new and fully-furnished 2-bedrooms flat in Steglitz', '1200 €', '58 m²', '01.08.2020-01.08.2021', 'Elizaveta Lisa'], 'wohnungen-in-Berlin-Berlin.8134046.html': ['Big, bright apartment in P-Berg - READ DETAILS', '1200 €', '80 m²', '10.08.2020-30.10.2020', 'Ida Bechtle'], 'wohnungen-in-Berlin-Reinickendorf.7871673.html': ['Sunny 2 bedroom with balcony', '1350 €', '48 m²', 'ab23.07.2020', 'Randy'], 'wohnungen-in-Berlin-Kreuzberg.5904810.html': ['modern 1,5 room apartment in Kreuzberg', '950 €', '39 m²', '01.08.2020-30.07.2021', 'Verifiziertes Unternehmen'], 'wohnungen-in-Berlin-Wilmersdorf.5581702.html': ['WG Apartment in Willmersdorf Fehrbellinerplatz', '900 €', '60 m²', '22.07.2020-30.06.2021', 'Jose Francisco'], 'wohnungen-in-Berlin-Prenzlauer-Berg.5301040.html': ['Luxus Wohnung im Prenzlauerberg (ohne Möbel mit Einbauküche)', '1185 €', '65 m²', '22.07.2020-01.12.2022', 'Herr Vermieter'], 'wohnungen-in-Berlin-Mitte.7040864.html': ['Sunny quiet apartment near Mauerpark', '1100 €', '61 m²', '01.08.2020-31.12.2020', 'Kathryn Nuss'], 'wohnungen-in-Berlin-Moabit.7677220.html': ['Flexibel - 2-Raum City Wohnung (möbliert, furnished), sehr ruhig, Balkon Parkblick', '1100 €', '60 m²', '01.09.2020-31.03.2021', 'Martin'], 'wohnungen-in-Berlin-MITTE.7594536.html': ['Weitblick am Wasser: Großzügige Altbauwohnung im Zentrum.', '1350 €', '90 m²', '01.08.2020', 'Seewald'], 'wohnungen-in-Berlin-Wedding.5846005.html': ['Schöne möblierte 2 Zimmerwohnung mit Balkon', '800 €', '50 m²', '01.08.2020-30.08.2020', 'Evi'], 'wohnungen-in-Berlin-Friedrichshain-Kreuzberg.8132130.html': ['2-Zimmer Whg in Kreuzberg/ Bergmannkiez Zwischenmiete 01.09.2020-27.02.2021 (Besicht. 23.07. um 11:30 Uhr und 06./07.08.)', '750 €', '55 m²', '01.09.2020-27.02.2021', 'Constanze Priester'], 'wohnungen-in-Berlin-Charlottenburg.3561656.html': ['Kaiserdamm - 2 bedrooms and big livingroom', '1400 €', '75 m²', '01.08.2020-31.07.2021', 'Verifiziertes Unternehmen'], 'wohnungen-in-Berlin-Kreuzberg.6720191.html': ['Big room in perfect location - available July & August', '600 €', '20 m²', '22.07.2020-30.08.2020', 'Charles']}\n"
     ]
    }
   ],
   "source": [
    "#Part 1 of the TO DO LIST\n",
    "\n",
    "def get_page(url):\n",
    "    page = requests.get(url, headers = headers)\n",
    "    if not page.ok:\n",
    "        print('Server reponse: ', page.status_code)\n",
    "    else:\n",
    "        soup = BeautifulSoup(page.text, 'html.parser')\n",
    "    return soup\n",
    "\n",
    "def main():\n",
    "    url = 'https://www.wg-gesucht.de/wohnungen-in-Berlin.8.2.1.0.html'\n",
    "    headers = {'User-Agent': 'Mozilla/5.0 (Macintosh; Intel Mac OS X 10_12_6) AppleWebKit/537.36 (KHTML, like Gecko) Chrome/83.0.4103.97 Safari/537.36'}\n",
    "    get_details(get_page(url))\n",
    "\n",
    "def get_details(soup):\n",
    "    #GET TITLES OF APARTMENT LISTINGS\n",
    "    title_name=[]\n",
    "    title_link =[]\n",
    "    title_list = soup.find_all('h3', class_= 'truncate_title noprint')\n",
    "    for title in title_list:\n",
    "        if title.find('a'):\n",
    "            title_link.append(title.find('a')['href'].strip())\n",
    "            title_name.append(title.find('a').text.strip())\n",
    "   \n",
    "    #DETAIL OF APARTMENT\n",
    "    apt_details =[]\n",
    "    details_list = soup.find_all('div', class_='col-xs-11')\n",
    "    for details in details_list:\n",
    "        if details.find('span'):\n",
    "            apt_details.append(details.find('span').string.replace('\\n','').replace(' ',''))\n",
    "    #PRICE\n",
    "    apt_price =[]\n",
    "    rent=[]\n",
    "    size=[]\n",
    "    price_list = soup.find_all('div', class_='col-xs-3')\n",
    "    for price in price_list:\n",
    "        if price.find('b'):\n",
    "            apt_price.append(price.find('b').text)\n",
    "    for i in range(len(apt_price)):\n",
    "                if (i % 2 == 0):\n",
    "                    rent.append(apt_price[i])\n",
    "                else:\n",
    "                    size.append(apt_price[i])\n",
    "    #Date\n",
    "    available_date = []\n",
    "    date_list = soup.find_all('div', class_=\"col-xs-5 text-center\")\n",
    "    for date in date_list:\n",
    "        available_date.append(date.text.replace('\\n','').replace(' ',''))\n",
    "    \n",
    "    #Renter\n",
    "    apt_renter=[]\n",
    "    renter_list = soup.find_all('span', class_='ml5')\n",
    "    for renter in renter_list:\n",
    "            apt_renter.append(renter.text.strip())\n",
    "    \n",
    "    data = list(map(list,zip(title_link, title_name, rent, size, available_date, apt_renter)))\n",
    "    dictionary = {i[0] : i[1:] for i in data}\n",
    "    print(dictionary)\n",
    "\n",
    "if __name__ == '__main__':\n",
    "    main()"
   ]
  }
 ],
 "metadata": {
  "kernelspec": {
   "display_name": "Python 3",
   "language": "python",
   "name": "python3"
  },
  "language_info": {
   "codemirror_mode": {
    "name": "ipython",
    "version": 3
   },
   "file_extension": ".py",
   "mimetype": "text/x-python",
   "name": "python",
   "nbconvert_exporter": "python",
   "pygments_lexer": "ipython3",
   "version": "3.8.2"
  }
 },
 "nbformat": 4,
 "nbformat_minor": 4
}
